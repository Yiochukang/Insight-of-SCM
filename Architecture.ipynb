{
 "cells": [
  {
   "cell_type": "markdown",
   "metadata": {},
   "source": [
    "**Critical Data and Resource:\n",
    "- Date: Project Master Planning, Supplier Lead Time\n",
    "- Cost: Purchase Cost, Inventory Cost, Transport Cost\n",
    "- Quantity: BOM\n",
    "- Service: Safety Stock and Re-order Point, Delivery Time, Distribution Location\n",
    "- Reality Constraint: Production Capacity, Inventory Capacity, Truck Capacity\n",
    "- Robustness: Risk Metigation, Transformation in Future\n"
   ]
  },
  {
   "cell_type": "markdown",
   "metadata": {},
   "source": [
    "**Data analysis and Modeling"
   ]
  },
  {
   "cell_type": "code",
   "execution_count": null,
   "metadata": {},
   "outputs": [],
   "source": [
    "**Simulation"
   ]
  }
 ],
 "metadata": {
  "kernelspec": {
   "display_name": "Python 3.9.6 64-bit",
   "language": "python",
   "name": "python3"
  },
  "language_info": {
   "name": "python",
   "version": "3.9.6"
  },
  "orig_nbformat": 4,
  "vscode": {
   "interpreter": {
    "hash": "a5964bab650ab4f6e659932eec7a6ca17233167c2195b96b0fdcf0781f0b21d1"
   }
  }
 },
 "nbformat": 4,
 "nbformat_minor": 2
}
