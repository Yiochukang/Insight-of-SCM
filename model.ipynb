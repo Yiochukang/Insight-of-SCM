{
 "cells": [
  {
   "cell_type": "markdown",
   "metadata": {},
   "source": [
    "# Dataset\n",
    "1. Inbound Flow\n",
    "- Purchase Cost, Lead Time, Risk Metigation, Re-order Point\n",
    "2. Inventory Cost\n",
    "- Holding Cost\n",
    "3. Outbound Flow\n",
    "- Distribution Location, Delivery Time, Truck Load\n"
   ]
  }
 ],
 "metadata": {
  "kernelspec": {
   "display_name": "Python 3.9.6 64-bit",
   "language": "python",
   "name": "python3"
  },
  "language_info": {
   "name": "python",
   "version": "3.9.6"
  },
  "orig_nbformat": 4,
  "vscode": {
   "interpreter": {
    "hash": "a5964bab650ab4f6e659932eec7a6ca17233167c2195b96b0fdcf0781f0b21d1"
   }
  }
 },
 "nbformat": 4,
 "nbformat_minor": 2
}
